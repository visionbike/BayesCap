{
 "cells": [
  {
   "cell_type": "code",
   "execution_count": 1,
   "id": "203489cb-fd29-4786-9454-48b92c8004b4",
   "metadata": {
    "ExecuteTime": {
     "end_time": "2024-07-26T07:26:22.672831Z",
     "start_time": "2024-07-26T07:26:18.444214Z"
    }
   },
   "outputs": [],
   "source": [
    "import torch\n",
    "import numpy as np\n",
    "from torch.utils.data import DataLoader\n",
    "from super_resolution_task import *\n",
    "from bayescap import *"
   ]
  },
  {
   "cell_type": "markdown",
   "id": "a2c004b0-60dd-470c-b43c-0f01ed71cfe2",
   "metadata": {},
   "source": [
    "## Loading the pre-trained (frozen) SRGAN base model and instantiating BayesCap"
   ]
  },
  {
   "cell_type": "code",
   "execution_count": 2,
   "id": "c3eaaa21-f1c3-43ee-95ae-fe90357d8641",
   "metadata": {
    "ExecuteTime": {
     "end_time": "2024-07-26T07:26:22.940205Z",
     "start_time": "2024-07-26T07:26:22.673861Z"
    },
    "scrolled": true,
    "tags": []
   },
   "outputs": [
    {
     "name": "stdout",
     "output_type": "stream",
     "text": [
      "Number of Parameters: 1547350\n"
     ]
    }
   ],
   "source": [
    "device = \"cuda:0\"\n",
    "NetGen = SRGenerator()\n",
    "NetGen.load_state_dict(torch.load(\"../ckpt/srgan-ImageNet-bc347d67.pth\", map_location=device))\n",
    "# \n",
    "model_parameters = filter(lambda p: True, NetGen.parameters())\n",
    "params = sum([np.prod(p.size()) for p in model_parameters])\n",
    "print(\"Number of Parameters:\", params)\n",
    "# \n",
    "NetCap = SRBayesCap(in_channels=3, out_channels=3)\n",
    "NetCap.load_state_dict(torch.load('../ckpt/BayesCap_SRGAN_best.pth', map_location=device))"
   ]
  },
  {
   "cell_type": "markdown",
   "id": "da30c18e-9601-452c-ba1d-06daaad3cb76",
   "metadata": {},
   "source": [
    "## Evaluating BayesCap"
   ]
  },
  {
   "metadata": {},
   "cell_type": "markdown",
   "source": "### Set5 Dataset",
   "id": "f1b13e07716afa6c"
  },
  {
   "cell_type": "code",
   "execution_count": null,
   "id": "c4bf9b019693a4da",
   "metadata": {
    "collapsed": false,
    "jupyter": {
     "outputs_hidden": false
    }
   },
   "outputs": [],
   "source": [
    "dataset_test = SRDataset(data_root=\"../data/Set5/original\", image_size=(256,256), upscale_factor=4)\n",
    "loader_test = DataLoader(dataset_test, batch_size=1, pin_memory=True, shuffle=False)\n",
    "eval_BayesCap(NetCap, NetGen, loader_test, device=device, dtype=torch.cuda.FloatTensor, viz=True, test=True)"
   ]
  },
  {
   "cell_type": "markdown",
   "id": "c6ed8c86-1524-4b15-9781-b94e48c69fd1",
   "metadata": {},
   "source": "### Set14 Dataset"
  },
  {
   "cell_type": "code",
   "execution_count": null,
   "id": "f72a5e22-e05e-4e83-b8a8-1b68447e9a69",
   "metadata": {},
   "outputs": [],
   "source": [
    "dataset_test = SRDataset(data_root=\"../data/Set14/original\", image_size=(256, 256), upscale_factor=4)\n",
    "loader_test = DataLoader(dataset_test, batch_size=1, pin_memory=True, shuffle=False)\n",
    "eval_BayesCap(NetCap, NetGen, loader_test, device=device, dtype=torch.cuda.FloatTensor, viz=False, test=True)"
   ]
  },
  {
   "metadata": {},
   "cell_type": "markdown",
   "source": "### BSD100 Dataset",
   "id": "3ed9c5114bc14298"
  },
  {
   "metadata": {},
   "cell_type": "code",
   "outputs": [],
   "execution_count": null,
   "source": [
    "dataset_test = SRDataset(data_root=\"../data/BSDS100/original\", image_size=(256, 256), upscale_factor=4)\n",
    "loader_test = DataLoader(dataset_test, batch_size=1, pin_memory=True, shuffle=False)\n",
    "eval_BayesCap(NetCap, NetGen, loader_test, device=device, dtype=torch.cuda.FloatTensor, viz=False, test=True)"
   ],
   "id": "b34fde649a7051b2"
  }
 ],
 "metadata": {
  "kernelspec": {
   "display_name": "Python 3 (ipykernel)",
   "language": "python",
   "name": "python3"
  },
  "language_info": {
   "codemirror_mode": {
    "name": "ipython",
    "version": 3
   },
   "file_extension": ".py",
   "mimetype": "text/x-python",
   "name": "python",
   "nbconvert_exporter": "python",
   "pygments_lexer": "ipython3",
   "version": "3.10.14"
  }
 },
 "nbformat": 4,
 "nbformat_minor": 5
}
